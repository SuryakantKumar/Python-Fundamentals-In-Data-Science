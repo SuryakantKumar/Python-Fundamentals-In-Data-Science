{
 "cells": [
  {
   "attachments": {
    "c9494563-7284-4c71-9fe4-40d31b4558ff.gif": {
     "image/gif": "[encoded data removed]"
    },
    "ecd1af6f-8660-4379-b68f-bad3ed6d67c8.gif": {
     "image/gif": "[encoded data removed]"
    }
   },
   "cell_type": "markdown",
   "id": "fba5b545-4ad9-43b8-8ed9-3ce978b91f2e",
   "metadata": {},
   "source": [
    "[![icons8-linkedin.gif](attachment:c9494563-7284-4c71-9fe4-40d31b4558ff.gif 'Author : Suryakant Kumar')](https://www.linkedin.com/in/suryakantkumar/)[![icons8-github.gif](attachment:ecd1af6f-8660-4379-b68f-bad3ed6d67c8.gif 'Author : Suryakant Kumar')](https://github.com/SuryakantKumar)"
   ]
  },
  {
   "cell_type": "markdown",
   "id": "83aaf752-e409-410a-a103-58d989a61bdb",
   "metadata": {},
   "source": [
    "# **Introduction to Python**"
   ]
  },
  {
   "cell_type": "markdown",
   "id": "cc1f3041-9527-4262-9fd1-3b50a5ebef86",
   "metadata": {},
   "source": [
    "### **`Python Basics`**"
   ]
  },
  {
   "cell_type": "markdown",
   "id": "8348ef16-3fd0-4c50-aae2-ae08056be7cd",
   "metadata": {},
   "source": [
    "* Python was conceived by **`Guido Van Rossum`**. It started as a hobby project, and soon became a general purpose programming language.\n",
    "\n",
    "* Nowadays, We can use Python to build practically any piece of software. But how did this happen?\n",
    "\n",
    "    * First of all, Python is **`open source`**. It's free to use.\n",
    "\n",
    "    * Second, It's very easy to build packages in Python, which is code that we can share with other people to solve specific problems.\n",
    "\n",
    "    * Throughout time, more and more of these packages specifically built for data science have been developed.\n",
    "\n",
    "* Python Shell is a place where we can type Python code and immediately see the results.\n",
    "\n",
    "* Python **`interprets`** what we type.\n",
    "\n",
    "* The Python shell that's used here is **`IPython`**, short for Interactive Python, which is some kind of interactive version of regular Python.\n",
    "\n",
    "* IPython was created by **`Fernando Pérez`** and is part of the broader Jupyter ecosystem.\n",
    "\n",
    "* Apart from interactively working with Python, We can also have Python run So called python **`scripts`**.\n",
    "\n",
    "    * These python scripts are simply text files with the extension **`.py`**.\n",
    "\n",
    "    * It's basically a list of Python commands that are executed, almost as if we were typing the commands in the shell ourself, line by line.\n",
    "\n",
    "    * Putting our code in Python scripts instead of, manually retyping every step interactively, will help us to keep structure and avoid retyping everything over and over again if we want to make a change."
   ]
  },
  {
   "cell_type": "code",
   "execution_count": 1,
   "id": "4ba8f608-bc50-4c67-99aa-0f6df05cc722",
   "metadata": {},
   "outputs": [
    {
     "name": "stdout",
     "output_type": "stream",
     "text": [
      "Let's Dive into the world of Data.\n"
     ]
    }
   ],
   "source": [
    "print(\"Let's Dive into the world of Data.\")"
   ]
  },
  {
   "cell_type": "markdown",
   "id": "965b06c2-13c5-4d50-85e7-5c7a3b9de373",
   "metadata": {},
   "source": [
    "* Python is a flexible language. We can use it for :\n",
    "\n",
    "    * For quick calculations\n",
    "\n",
    "    * Develop a database-driven website\n",
    "\n",
    "    * Clean and analyze data etc.\n",
    "\n",
    "* Python is perfectly suited to do basic calculations. It can do **`addition`**, **`subtraction`**, **`multiplication`** and **`division`**.    "
   ]
  },
  {
   "cell_type": "code",
   "execution_count": 2,
   "id": "c7599b22-c2a8-43f5-ac41-16df3d8b0b39",
   "metadata": {},
   "outputs": [
    {
     "name": "stdout",
     "output_type": "stream",
     "text": [
      "10\n"
     ]
    }
   ],
   "source": [
    "# Addition\n",
    "print(5 + 5)"
   ]
  },
  {
   "cell_type": "code",
   "execution_count": 3,
   "id": "af6f9aed-7c6b-4865-bc20-695079f88833",
   "metadata": {},
   "outputs": [
    {
     "name": "stdout",
     "output_type": "stream",
     "text": [
      "0\n"
     ]
    }
   ],
   "source": [
    "# subtraction\n",
    "print(5 - 5)"
   ]
  },
  {
   "cell_type": "code",
   "execution_count": 4,
   "id": "a5f25dec-13e3-42c4-93d6-ffb6ccdaf39f",
   "metadata": {},
   "outputs": [
    {
     "name": "stdout",
     "output_type": "stream",
     "text": [
      "15\n"
     ]
    }
   ],
   "source": [
    "# Multiplication\n",
    "print(3 * 5)"
   ]
  },
  {
   "cell_type": "code",
   "execution_count": 5,
   "id": "4d816499-7278-4f9a-a4e4-daba15edcd74",
   "metadata": {},
   "outputs": [
    {
     "name": "stdout",
     "output_type": "stream",
     "text": [
      "5.0\n"
     ]
    }
   ],
   "source": [
    "# division\n",
    "print(10 / 2)"
   ]
  },
  {
   "cell_type": "code",
   "execution_count": 6,
   "id": "696c93d3-7830-4a18-b71c-380fdda5220f",
   "metadata": {},
   "outputs": [
    {
     "name": "stdout",
     "output_type": "stream",
     "text": [
      "4\n"
     ]
    }
   ],
   "source": [
    "# modulo i.e, remainder\n",
    "print(18 % 7)"
   ]
  },
  {
   "cell_type": "code",
   "execution_count": 7,
   "id": "5876611d-e9a3-4895-90f9-26b42928089f",
   "metadata": {},
   "outputs": [
    {
     "name": "stdout",
     "output_type": "stream",
     "text": [
      "16\n"
     ]
    }
   ],
   "source": [
    "# exponentiation\n",
    "print(4 ** 2)"
   ]
  },
  {
   "cell_type": "markdown",
   "id": "d10b137f-4963-4b3b-8da7-93efae0d07c4",
   "metadata": {},
   "source": [
    "### **`Comments`**\n",
    "\n",
    "* We can add **`comments`** to your Python scripts.\n",
    "\n",
    "* Comments are important to make sure that, Everyone can understand what our code is about.\n",
    "\n",
    "* It does not run as Python code.\n",
    "\n",
    "* It starts with **`#`** tag."
   ]
  },
  {
   "cell_type": "markdown",
   "id": "99733843-90b9-48e1-b563-6e9bcb0ad68d",
   "metadata": {},
   "source": [
    "### **`Variables`**"
   ]
  },
  {
   "cell_type": "markdown",
   "id": "75a1115b-972f-47ba-b8c1-98c2e3f01cdb",
   "metadata": {},
   "source": [
    "* If We want to do more complex calculations then, We'll need to save values while we're coding along.\n",
    "\n",
    "* We can do this by defining a variable, with a specific **`case-sensitive`** name.\n",
    "\n",
    "* Once We create (or declare) such a variable, we can later call up its **`value`** by typing the variable name.\n",
    "\n",
    "* Variables help to make our code reproducible.\n",
    "\n",
    "* **`=`** in Python means **`assignment`**, it doesn't test equality!"
   ]
  },
  {
   "cell_type": "code",
   "execution_count": 8,
   "id": "9c819f54-5258-43a0-b213-308e8a90b840",
   "metadata": {},
   "outputs": [],
   "source": [
    "# Suppose We measure our height and weight\n",
    "\n",
    "height = 1.77\n",
    "\n",
    "weight = 76"
   ]
  },
  {
   "cell_type": "markdown",
   "id": "f1578d00-59ca-4a0b-829a-8aced8f5a812",
   "metadata": {},
   "source": [
    "* Now If we type the name of the variable i.e, height or weight, Python looks for the variable name, retrieves its value, and prints it out."
   ]
  },
  {
   "cell_type": "code",
   "execution_count": 9,
   "id": "efd8023e-3711-46b4-809a-d0d780dfcd45",
   "metadata": {},
   "outputs": [
    {
     "data": {
      "text/plain": [
       "1.77"
      ]
     },
     "execution_count": 9,
     "metadata": {},
     "output_type": "execute_result"
    }
   ],
   "source": [
    "height"
   ]
  },
  {
   "cell_type": "code",
   "execution_count": 10,
   "id": "cd79a180-a8a1-45e8-9079-c8558e8742f9",
   "metadata": {},
   "outputs": [
    {
     "data": {
      "text/plain": [
       "24.258674071946118"
      ]
     },
     "execution_count": 10,
     "metadata": {},
     "output_type": "execute_result"
    }
   ],
   "source": [
    "# Calculate the Body Mass Index (BMI)\n",
    "\n",
    "bmi = weight / height ** 2\n",
    "\n",
    "bmi"
   ]
  },
  {
   "cell_type": "markdown",
   "id": "c78292b9-afdd-4fb4-b713-036fd34d0c5d",
   "metadata": {},
   "source": [
    "### **`Data types`**\n",
    "\n",
    "* In Python, We can find the type of a value or, a variable that refers to that value, by using the **`type()`** function.\n",
    "\n",
    "* **`float`** is python's way of representing a real number (A number which can have both an integer part and a fractional part)."
   ]
  },
  {
   "cell_type": "code",
   "execution_count": 11,
   "id": "27ad235e-f357-4b74-9c56-468cb22ec1ad",
   "metadata": {},
   "outputs": [
    {
     "data": {
      "text/plain": [
       "float"
      ]
     },
     "execution_count": 11,
     "metadata": {},
     "output_type": "execute_result"
    }
   ],
   "source": [
    "type(bmi)"
   ]
  },
  {
   "cell_type": "markdown",
   "id": "0c4a8471-46c0-4dbd-9c7d-f484ba38e5d4",
   "metadata": {},
   "source": [
    "* Python has **`int`** type for a number without a fractional part."
   ]
  },
  {
   "cell_type": "code",
   "execution_count": 12,
   "id": "0abc2a1b-6690-4167-be11-f30b2e0466c4",
   "metadata": {},
   "outputs": [
    {
     "data": {
      "text/plain": [
       "int"
      ]
     },
     "execution_count": 12,
     "metadata": {},
     "output_type": "execute_result"
    }
   ],
   "source": [
    "day_of_week = 6\n",
    "\n",
    "type(day_of_week)"
   ]
  },
  {
   "cell_type": "markdown",
   "id": "94a8aabb-d15e-4d10-b340-24adfb85b838",
   "metadata": {},
   "source": [
    "* A **`str`** type is Python's way to represent text. We can use both **`double`** and **`single`** quotes to build a string."
   ]
  },
  {
   "cell_type": "code",
   "execution_count": 13,
   "id": "1f0c381f-f047-4606-a472-9dbc44ab8727",
   "metadata": {},
   "outputs": [
    {
     "data": {
      "text/plain": [
       "str"
      ]
     },
     "execution_count": 13,
     "metadata": {},
     "output_type": "execute_result"
    }
   ],
   "source": [
    "quote = \"quote, no quotes.\"\n",
    "\n",
    "type(\"quote\")"
   ]
  },
  {
   "cell_type": "markdown",
   "id": "6393aa2d-7be8-4542-8eb1-436e1ec2d0ce",
   "metadata": {},
   "source": [
    "* The **`boolean`** is a type to represent logical values.\n",
    "\n",
    "* It can either be **`True`** or **`False`** (the capitalization is important!). We can think of it as **`Yes`** and **`No`** in everyday language.\n",
    "\n",
    "* Booleans will be very useful to perform filtering operations on our data."
   ]
  },
  {
   "cell_type": "code",
   "execution_count": 14,
   "id": "a6c78151-fb45-43ee-b2cc-ed6ff8372f7e",
   "metadata": {},
   "outputs": [
    {
     "data": {
      "text/plain": [
       "bool"
      ]
     },
     "execution_count": 14,
     "metadata": {},
     "output_type": "execute_result"
    }
   ],
   "source": [
    "answer = True\n",
    "\n",
    "type(answer)"
   ]
  },
  {
   "cell_type": "markdown",
   "id": "3e665c29-71c7-411a-86d8-fb99aa9f25e1",
   "metadata": {},
   "source": [
    "* String types in Python can be **`concatenated`** together using plus (+) operator."
   ]
  },
  {
   "cell_type": "code",
   "execution_count": 15,
   "id": "4b0a24a9-895c-424b-83f9-51f76a1ac4b9",
   "metadata": {},
   "outputs": [
    {
     "data": {
      "text/plain": [
       "'one two'"
      ]
     },
     "execution_count": 15,
     "metadata": {},
     "output_type": "execute_result"
    }
   ],
   "source": [
    "first = \"one \"\n",
    "second = \"two\"\n",
    "\n",
    "first + second"
   ]
  },
  {
   "cell_type": "markdown",
   "id": "cf16000b-3366-43e9-baf5-4e1f37095ed7",
   "metadata": {},
   "source": [
    "* The plus (+) operator behaves differently for different data types.\n",
    "\n",
    "    * For integers, values were summed\n",
    "\n",
    "    * For strings, strings were concatenated."
   ]
  },
  {
   "cell_type": "markdown",
   "id": "fd78634a-c3de-449f-850f-88ea9d172da6",
   "metadata": {},
   "source": [
    "### **`Type conversion`**\n",
    "\n",
    "* Using the **`+`** operator to paste together two strings can be very useful in building custom messages.\n",
    "\n",
    "* To do this, We'll need to explicitly convert the types of our variables.\n",
    "\n",
    "* More specifically, We'll need **`str()`**, to convert a value into a string.\n",
    "\n",
    "* Similar functions such as **`int()`**, **`float()`** and **`bool()`** will help us convert Python values into any type."
   ]
  },
  {
   "cell_type": "code",
   "execution_count": 16,
   "id": "a5092f18-990b-44a2-82c7-df6c3ee49f9b",
   "metadata": {},
   "outputs": [
    {
     "name": "stdout",
     "output_type": "stream",
     "text": [
      "I started with $100 and now have $194.87171000000012. Awesome!\n"
     ]
    }
   ],
   "source": [
    "savings = 100\n",
    "result = 100 * 1.10 ** 7\n",
    "\n",
    "# Fix the printout\n",
    "print(\"I started with $\" + str(savings) + \" and now have $\" + str(result) + \". Awesome!\")"
   ]
  }
 ],
 "metadata": {
  "kernelspec": {
   "display_name": "Python 3 (ipykernel)",
   "language": "python",
   "name": "python3"
  },
  "language_info": {
   "codemirror_mode": {
    "name": "ipython",
    "version": 3
   },
   "file_extension": ".py",
   "mimetype": "text/x-python",
   "name": "python",
   "nbconvert_exporter": "python",
   "pygments_lexer": "ipython3",
   "version": "3.9.12"
  }
 },
 "nbformat": 4,
 "nbformat_minor": 5
}
